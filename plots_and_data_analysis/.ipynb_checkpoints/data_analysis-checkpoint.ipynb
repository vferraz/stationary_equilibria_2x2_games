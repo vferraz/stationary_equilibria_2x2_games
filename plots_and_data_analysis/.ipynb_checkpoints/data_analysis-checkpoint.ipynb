{
 "cells": [
  {
   "cell_type": "markdown",
   "id": "e1871d73-2be8-4984-9262-7642cabea438",
   "metadata": {},
   "source": [
    "# Data Analysis"
   ]
  },
  {
   "cell_type": "markdown",
   "id": "b3cce89b-bcce-43fe-a476-b4f7326586f4",
   "metadata": {},
   "source": [
    "This file is part of the reproduction package provided with the paper Stationary Equilibria in Behavioral Game Theory: An Experimental Analysis of Inspection Games.\n",
    "\n",
    "This code provided data analysis used in the paper.\n",
    "\n",
    "Questions and correspondence should be addressed to Vinícius Ferraz (visferraz@gmail.com)"
   ]
  },
  {
   "cell_type": "code",
   "execution_count": 18,
   "id": "890b505e",
   "metadata": {},
   "outputs": [],
   "source": [
    "import pandas as pd\n",
    "import numpy as np\n",
    "import matplotlib.pyplot as plt\n",
    "import seaborn as sns\n",
    "import scipy.stats as stats\n",
    "from scipy.stats import mannwhitneyu\n",
    "\n",
    "%matplotlib inline"
   ]
  },
  {
   "cell_type": "markdown",
   "id": "5a224769-df55-4df5-ac16-2260d8cf6cdc",
   "metadata": {},
   "source": [
    "## Statistical Tests"
   ]
  },
  {
   "cell_type": "code",
   "execution_count": 19,
   "id": "adfbf682-877e-4600-9255-4199e40057bd",
   "metadata": {},
   "outputs": [],
   "source": [
    "df_full_d = pd.read_csv('data_plots/df_rep_p.csv')"
   ]
  },
  {
   "cell_type": "code",
   "execution_count": 21,
   "id": "c1444f2e-2b3c-45d0-a9c4-118bc2c1ea46",
   "metadata": {},
   "outputs": [],
   "source": [
    "# splitting data by player\n",
    "df_f_p1 = df_full_d.loc[df_full_d['player_id']==1]\n",
    "df_f_p2 = df_full_d.loc[df_full_d['player_id']==2]\n",
    "\n",
    "# consolidated data (last round of the repeated game)\n",
    "df_f_lr = df_full_d.loc[df_full_d['round_number']==70]\n",
    "df_f_p1_lr = df_f_p1[df_f_p1['round_number']==70]\n",
    "df_f_p2_lr = df_f_p2[df_f_p2['round_number']==70]"
   ]
  },
  {
   "cell_type": "code",
   "execution_count": 22,
   "id": "5369dfab-d1dc-4279-a5f1-5ca51c3c3ca1",
   "metadata": {},
   "outputs": [],
   "source": [
    "def permutation_test(sample1, sample2, num_permutations=10000, two_tailed=True):\n",
    "    observed_stat = np.mean(sample1) - np.mean(sample2)\n",
    "    combined = np.concatenate([sample1, sample2])\n",
    "    count = 0\n",
    "    for _ in range(num_permutations):\n",
    "        np.random.shuffle(combined)\n",
    "        perm_sample1 = combined[:len(sample1)]\n",
    "        perm_sample2 = combined[len(sample1):]\n",
    "        perm_stat = np.mean(perm_sample1) - np.mean(perm_sample2)\n",
    "        \n",
    "        if two_tailed:\n",
    "            if abs(perm_stat) >= abs(observed_stat):\n",
    "                count += 1\n",
    "        else:\n",
    "            if perm_stat >= observed_stat:\n",
    "                count += 1\n",
    "    p_value = count / num_permutations\n",
    "    return p_value\n",
    "\n",
    "\n",
    "def compare_nonparametric_freqs(sample_1, sample_2):\n",
    "    \n",
    "    # Mann-Withney U Test\n",
    "    U, p_value = mannwhitneyu(sample_1, sample_2, alternative='two-sided')\n",
    "    print(f'Mann-Whitney U Test P-value: {p_value}')\n",
    "    \n",
    "    # Permutation Test\n",
    "    p = permutation_test(sample_1, sample_2, num_permutations=10000, two_tailed=False)\n",
    "    print(f\"Permutation test P-value: {p}\")\n"
   ]
  },
  {
   "cell_type": "markdown",
   "id": "fd03b680-f368-456a-a9f9-6734c3e5ce39",
   "metadata": {},
   "source": [
    "Test 1 - framed treatment vs. unframed treatment"
   ]
  },
  {
   "cell_type": "code",
   "execution_count": 26,
   "id": "712ec33e-e89a-4e11-9c54-8d215b9ba99e",
   "metadata": {},
   "outputs": [
    {
     "name": "stdout",
     "output_type": "stream",
     "text": [
      "Mann-Whitney U Test P-value: 0.6138330108155987\n",
      "Permutation test P-value: 0.0891\n"
     ]
    }
   ],
   "source": [
    "sample_1 = df_f_lr['s1_freq'][df_f_lr['framed'] == 1] # framed treatment\n",
    "sample_2 = df_f_lr['s1_freq'][df_f_lr['framed'] == 0] # unframed treatment\n",
    "compare_nonparametric_freqs(sample_1, sample_2)"
   ]
  },
  {
   "cell_type": "markdown",
   "id": "5ffd07b4-5c46-4e28-99ff-01e877bfff94",
   "metadata": {},
   "source": [
    "Test 2 - males vs. females"
   ]
  },
  {
   "cell_type": "code",
   "execution_count": 27,
   "id": "734e17a9-8a4f-48dd-b6dc-cfcda704e4ef",
   "metadata": {},
   "outputs": [
    {
     "name": "stdout",
     "output_type": "stream",
     "text": [
      "Mann-Whitney U Test P-value: 0.9044477643545787\n",
      "Permutation test P-value: 0.3052\n"
     ]
    }
   ],
   "source": [
    "sample_1 = df_f_lr['s1_freq'][df_f_lr['gender'] == 1] # male\n",
    "sample_2 = df_f_lr['s1_freq'][df_f_lr['gender'] == 2] # female\n",
    "compare_nonparametric_freqs(sample_1, sample_2)"
   ]
  },
  {
   "cell_type": "markdown",
   "id": "bbfd6ebd-5598-4bf3-90b0-522e4467843b",
   "metadata": {},
   "source": [
    "Test 3 - p1 framed vs. p1 unframed"
   ]
  },
  {
   "cell_type": "code",
   "execution_count": 28,
   "id": "d387536c-396a-446f-ad31-dd0dbd49624f",
   "metadata": {},
   "outputs": [
    {
     "name": "stdout",
     "output_type": "stream",
     "text": [
      "Mann-Whitney U Test P-value: 0.2557154184995717\n",
      "Permutation test P-value: 0.0785\n"
     ]
    }
   ],
   "source": [
    "sample_1 = df_f_p1_lr['s1_freq'][df_f_p1_lr['framed'] == 1] # p1 framed treatment\n",
    "sample_2 = df_f_p1_lr['s1_freq'][df_f_p1_lr['framed'] == 0] # p1 unframed treatment\n",
    "compare_nonparametric_freqs(sample_1, sample_2)"
   ]
  },
  {
   "cell_type": "markdown",
   "id": "3877b249-e33e-4628-a341-02ebe61f0ae9",
   "metadata": {},
   "source": [
    "Test 4 - p2 framed vs. p2 unframed"
   ]
  },
  {
   "cell_type": "code",
   "execution_count": 29,
   "id": "e6b810b7-8e25-4d53-a0c4-9c099941d495",
   "metadata": {},
   "outputs": [
    {
     "name": "stdout",
     "output_type": "stream",
     "text": [
      "Mann-Whitney U Test P-value: 0.9454902718414993\n",
      "Permutation test P-value: 0.2513\n"
     ]
    }
   ],
   "source": [
    "sample_1 = df_f_p2_lr['s1_freq'][df_f_p2_lr['framed'] == 1] # p2 framed treatment\n",
    "sample_2 = df_f_p2_lr['s1_freq'][df_f_p2_lr['framed'] == 0] # p2 unframed treatment\n",
    "compare_nonparametric_freqs(sample_1, sample_2)"
   ]
  },
  {
   "cell_type": "markdown",
   "id": "e55f4641-efa8-4538-82ac-acd41d28b884",
   "metadata": {},
   "source": [
    "## Inequity Aversion Analysis"
   ]
  },
  {
   "cell_type": "code",
   "execution_count": 3,
   "id": "92768003",
   "metadata": {},
   "outputs": [],
   "source": [
    "df=pd.read_csv('data_analysis/ia_an.csv') # pre-processed dataset with computed strategy changes based on fairness"
   ]
  },
  {
   "cell_type": "code",
   "execution_count": 5,
   "id": "973076e8",
   "metadata": {},
   "outputs": [],
   "source": [
    "df['p1s1_c'] = df.groupby('participant_code_p1')['p1s1'].cumsum()\n",
    "df['p1s1_freq'] = df['p1s1_c'] / df['round_number'] \n",
    "\n",
    "df['p2s1_c'] = df.groupby('participant_code_p2')['p2s1'].cumsum()\n",
    "df['p2s1_freq'] = df['p2s1_c'] / df['round_number'] "
   ]
  },
  {
   "cell_type": "code",
   "execution_count": 6,
   "id": "9aa27383",
   "metadata": {},
   "outputs": [],
   "source": [
    "df_lr = df.loc[df['round_number']==70]"
   ]
  },
  {
   "cell_type": "code",
   "execution_count": 7,
   "id": "2347e744",
   "metadata": {},
   "outputs": [
    {
     "data": {
      "text/plain": [
       "framing\n",
       "0    0.340659\n",
       "1    0.460714\n",
       "Name: p1s1_freq, dtype: float64"
      ]
     },
     "execution_count": 7,
     "metadata": {},
     "output_type": "execute_result"
    }
   ],
   "source": [
    "df_lr.groupby('framing')['p1s1_freq'].mean()"
   ]
  },
  {
   "cell_type": "code",
   "execution_count": 8,
   "id": "32d210fa",
   "metadata": {},
   "outputs": [
    {
     "data": {
      "text/plain": [
       "framing\n",
       "0    0.108242\n",
       "1    0.135714\n",
       "Name: p2s1_freq, dtype: float64"
      ]
     },
     "execution_count": 8,
     "metadata": {},
     "output_type": "execute_result"
    }
   ],
   "source": [
    "df_lr.groupby('framing')['p2s1_freq'].mean()"
   ]
  },
  {
   "cell_type": "code",
   "execution_count": 9,
   "id": "1bc50d19",
   "metadata": {},
   "outputs": [],
   "source": [
    "df['p1s1_change_envy'] = ((df['pf_diff_p1_s'].shift(1) == 1) & \n",
    "                                 (df['p1s1'].shift(1) != df.groupby(['participant_code_p1'])['p1s1'].shift(1))\n",
    "                                ).astype(int)\n",
    "\n",
    "df['p2s1_change_envy'] = ((df['pf_diff_p2_s'].shift(1) == 1) & \n",
    "                                 (df['p2s1'].shift(1) != df.groupby(['participant_code_p2'])['p2s1'].shift(1))\n",
    "                                ).astype(int)\n",
    "\n",
    "df['p1s1_change_guilt'] = ((df['pf_diff_p2_s'].shift(1) == 1) & \n",
    "                                 (df['p1s1'].shift(1) != df.groupby(['participant_code_p1'])['p1s1'].shift(1))\n",
    "                                ).astype(int)\n",
    "\n",
    "df['p2s1_change_guilt'] = ((df['pf_diff_p1_s'].shift(1) == 1) & \n",
    "                                 (df['p2s1'].shift(1) != df.groupby(['participant_code_p2'])['p2s1'].shift(1))\n",
    "                                ).astype(int)"
   ]
  },
  {
   "cell_type": "code",
   "execution_count": 10,
   "id": "d4fc33cc",
   "metadata": {},
   "outputs": [
    {
     "name": "stdout",
     "output_type": "stream",
     "text": [
      "envy: player 1 - examiner\n",
      "framing\n",
      "0    0.287129\n",
      "1    0.595745\n",
      "dtype: float64\n"
     ]
    }
   ],
   "source": [
    "grouped = df.groupby('framing').agg({'p1s1_change_envy': 'sum', 'pf_diff_p1_s': lambda x: sum(x == 1)})\n",
    "result = grouped['p1s1_change_envy'] / grouped['pf_diff_p1_s']\n",
    "print('envy: player 1 - examiner')\n",
    "print(result)"
   ]
  },
  {
   "cell_type": "code",
   "execution_count": 11,
   "id": "4a71b8ec",
   "metadata": {},
   "outputs": [
    {
     "name": "stdout",
     "output_type": "stream",
     "text": [
      "envy: player 2 - student\n",
      "framing\n",
      "0    0.84375\n",
      "1    0.88806\n",
      "dtype: float64\n"
     ]
    }
   ],
   "source": [
    "grouped = df.groupby('framing').agg({'p2s1_change_envy': 'sum', 'pf_diff_p2_s': lambda x: sum(x == 1)})\n",
    "result = grouped['p2s1_change_envy'] / grouped['pf_diff_p2_s']\n",
    "print('envy: player 2 - student')\n",
    "print(result)"
   ]
  },
  {
   "cell_type": "code",
   "execution_count": 12,
   "id": "47d349ee",
   "metadata": {},
   "outputs": [
    {
     "name": "stdout",
     "output_type": "stream",
     "text": [
      "guilt: player 1 - examiner\n",
      "framing\n",
      "0    0.53125\n",
      "1    0.41791\n",
      "dtype: float64\n"
     ]
    }
   ],
   "source": [
    "grouped = df.groupby('framing').agg({'p1s1_change_guilt': 'sum', 'pf_diff_p2_s': lambda x: sum(x == 1)})\n",
    "result = grouped['p1s1_change_guilt'] / grouped['pf_diff_p2_s']\n",
    "print('guilt: player 1 - examiner')\n",
    "print(result)"
   ]
  },
  {
   "cell_type": "code",
   "execution_count": 13,
   "id": "7391a292",
   "metadata": {},
   "outputs": [
    {
     "name": "stdout",
     "output_type": "stream",
     "text": [
      "guilt: player 2 - student\n",
      "framing\n",
      "0    0.811881\n",
      "1    0.861702\n",
      "dtype: float64\n"
     ]
    }
   ],
   "source": [
    "grouped = df.groupby('framing').agg({'p2s1_change_guilt': 'sum', 'pf_diff_p1_s': lambda x: sum(x == 1)})\n",
    "result = grouped['p2s1_change_guilt'] / grouped['pf_diff_p1_s']\n",
    "print('guilt: player 2 - student')\n",
    "print(result)"
   ]
  }
 ],
 "metadata": {
  "kernelspec": {
   "display_name": "Python 3 (ipykernel)",
   "language": "python",
   "name": "python3"
  },
  "language_info": {
   "codemirror_mode": {
    "name": "ipython",
    "version": 3
   },
   "file_extension": ".py",
   "mimetype": "text/x-python",
   "name": "python",
   "nbconvert_exporter": "python",
   "pygments_lexer": "ipython3",
   "version": "3.9.18"
  }
 },
 "nbformat": 4,
 "nbformat_minor": 5
}
